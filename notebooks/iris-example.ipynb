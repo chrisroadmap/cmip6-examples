{
 "cells": [
  {
   "cell_type": "markdown",
   "id": "de69ed86",
   "metadata": {},
   "source": [
    "# iris example"
   ]
  },
  {
   "cell_type": "markdown",
   "id": "25814797",
   "metadata": {},
   "source": [
    "`iris` is a very good solution to analyse data that you already have: such as that downloaded from the CMIP6 ESGF portal. It has functions to create slices in time and space, create climatologies, regridding, quick plots of data, and lots of other useful things. See https://scitools-iris.readthedocs.io/"
   ]
  },
  {
   "cell_type": "code",
   "execution_count": null,
   "id": "3925fc33",
   "metadata": {},
   "outputs": [],
   "source": [
    "import iris\n",
    "import matplotlib.pyplot as plt\n",
    "import iris.plot as iplt\n",
    "import iris.quickplot as qplt"
   ]
  },
  {
   "cell_type": "markdown",
   "id": "f69f17fe",
   "metadata": {},
   "source": [
    "The basic unit of currency in `iris` is the `cube` (really it should be hypercube!) where the data lives."
   ]
  },
  {
   "cell_type": "code",
   "execution_count": null,
   "id": "57f85344",
   "metadata": {},
   "outputs": [],
   "source": [
    "filename = iris.sample_data_path('uk_hires.pp')\n",
    "cubes = iris.load(filename)\n",
    "print(cubes)"
   ]
  },
  {
   "cell_type": "code",
   "execution_count": null,
   "id": "d70d6219",
   "metadata": {},
   "outputs": [],
   "source": [
    "air_potential_temperature = cubes[0]\n",
    "print(air_potential_temperature)"
   ]
  },
  {
   "cell_type": "code",
   "execution_count": null,
   "id": "9eda3fd8",
   "metadata": {},
   "outputs": [],
   "source": [
    "# Take a 2d slice using array style indexing.\n",
    "temperature_2d = air_potential_temperature[0, 0, :, :]\n",
    "\n",
    "# Add a contour, and put the result in a variable called contour.\n",
    "contour = qplt.contourf(temperature_2d)\n",
    "\n",
    "# Add coastlines to the map created by contour.\n",
    "plt.gca().coastlines()\n",
    "\n",
    "# Add contour labels based on the contour we have just created.\n",
    "plt.clabel(contour, inline=False)"
   ]
  },
  {
   "cell_type": "code",
   "execution_count": null,
   "id": "166bf5ab",
   "metadata": {},
   "outputs": [],
   "source": []
  }
 ],
 "metadata": {
  "kernelspec": {
   "display_name": "Python 3 (ipykernel)",
   "language": "python",
   "name": "python3"
  },
  "language_info": {
   "codemirror_mode": {
    "name": "ipython",
    "version": 3
   },
   "file_extension": ".py",
   "mimetype": "text/x-python",
   "name": "python",
   "nbconvert_exporter": "python",
   "pygments_lexer": "ipython3",
   "version": "3.10.2"
  }
 },
 "nbformat": 4,
 "nbformat_minor": 5
}
