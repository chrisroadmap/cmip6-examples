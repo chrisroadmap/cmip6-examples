{
 "cells": [
  {
   "cell_type": "markdown",
   "id": "4ed85329",
   "metadata": {},
   "source": [
    "# Using iris to analyse data obtained with pangeo\n",
    "\n",
    "This will also demonstrate how to perform area-weighting to produce monthly and annual means"
   ]
  },
  {
   "cell_type": "code",
   "execution_count": 1,
   "id": "b6b3eba8",
   "metadata": {},
   "outputs": [],
   "source": [
    "import iris\n",
    "import matplotlib.pyplot as plt\n",
    "import numpy as np\n",
    "\n",
    "import iris.analysis.cartography\n",
    "import iris.coord_categorisation"
   ]
  },
  {
   "cell_type": "code",
   "execution_count": 2,
   "id": "b9c779a6",
   "metadata": {},
   "outputs": [
    {
     "name": "stderr",
     "output_type": "stream",
     "text": [
      "H:\\conda\\cmip6-examples\\lib\\site-packages\\iris\\fileformats\\cf.py:859: UserWarning: Missing CF-netCDF measure variable 'areacella', referenced by netCDF variable 'tas'\n",
      "  warnings.warn(\n",
      "H:\\conda\\cmip6-examples\\lib\\site-packages\\iris\\fileformats\\_nc_load_rules\\helpers.py:231: UserWarning: Skipping global attribute 'coordinates': 'coordinates' is not a permitted attribute\n",
      "  warnings.warn(msg.format(attr_name, str(e)))\n"
     ]
    }
   ],
   "source": [
    "cube = iris.load_cube('../data/pangeo/CESM2_historical_tas.nc')"
   ]
  },
  {
   "cell_type": "code",
   "execution_count": 3,
   "id": "b20a977f",
   "metadata": {},
   "outputs": [
    {
     "data": {
      "text/html": [
       "\n",
       "<style>\n",
       "  a.iris {\n",
       "      text-decoration: none !important;\n",
       "  }\n",
       "  table.iris {\n",
       "      white-space: pre;\n",
       "      border: 1px solid;\n",
       "      border-color: #9c9c9c;\n",
       "      font-family: monaco, monospace;\n",
       "  }\n",
       "  th.iris {\n",
       "      background: #303f3f;\n",
       "      color: #e0e0e0;\n",
       "      border-left: 1px solid;\n",
       "      border-color: #9c9c9c;\n",
       "      font-size: 1.05em;\n",
       "      min-width: 50px;\n",
       "      max-width: 125px;\n",
       "  }\n",
       "  tr.iris :first-child {\n",
       "      border-right: 1px solid #9c9c9c !important;\n",
       "  }\n",
       "  td.iris-title {\n",
       "      background: #d5dcdf;\n",
       "      border-top: 1px solid #9c9c9c;\n",
       "      font-weight: bold;\n",
       "  }\n",
       "  .iris-word-cell {\n",
       "      text-align: left !important;\n",
       "      white-space: pre;\n",
       "  }\n",
       "  .iris-subheading-cell {\n",
       "      padding-left: 2em !important;\n",
       "  }\n",
       "  .iris-inclusion-cell {\n",
       "      padding-right: 1em !important;\n",
       "  }\n",
       "  .iris-panel-body {\n",
       "      padding-top: 0px;\n",
       "  }\n",
       "  .iris-panel-title {\n",
       "      padding-left: 3em;\n",
       "  }\n",
       "  .iris-panel-title {\n",
       "      margin-top: 7px;\n",
       "  }\n",
       "</style>\n",
       "<table class=\"iris\" id=\"2370806082016\">\n",
       "    <tr class=\"iris\">\n",
       "<th class=\"iris iris-word-cell\">Air Temperature (K)</th>\n",
       "<th class=\"iris iris-word-cell\">time</th>\n",
       "<th class=\"iris iris-word-cell\">latitude</th>\n",
       "<th class=\"iris iris-word-cell\">longitude</th>\n",
       "</tr>\n",
       "    <tr class=\"iris\">\n",
       "<td class=\"iris-word-cell iris-subheading-cell\">Shape</td>\n",
       "<td class=\"iris iris-inclusion-cell\">1980</td>\n",
       "<td class=\"iris iris-inclusion-cell\">96</td>\n",
       "<td class=\"iris iris-inclusion-cell\">144</td>\n",
       "</tr>\n",
       "    <tr class=\"iris\">\n",
       "    <td class=\"iris-title iris-word-cell\">Dimension coordinates</td>\n",
       "    <td class=\"iris-title\"></td>\n",
       "    <td class=\"iris-title\"></td>\n",
       "    <td class=\"iris-title\"></td>\n",
       "</tr>\n",
       "<tr class=\"iris\">\n",
       "    <td class=\"iris-word-cell iris-subheading-cell\">\ttime</td>\n",
       "    <td class=\"iris-inclusion-cell\">x</td>\n",
       "    <td class=\"iris-inclusion-cell\">-</td>\n",
       "    <td class=\"iris-inclusion-cell\">-</td>\n",
       "</tr>\n",
       "<tr class=\"iris\">\n",
       "    <td class=\"iris-word-cell iris-subheading-cell\">\tlatitude</td>\n",
       "    <td class=\"iris-inclusion-cell\">-</td>\n",
       "    <td class=\"iris-inclusion-cell\">x</td>\n",
       "    <td class=\"iris-inclusion-cell\">-</td>\n",
       "</tr>\n",
       "<tr class=\"iris\">\n",
       "    <td class=\"iris-word-cell iris-subheading-cell\">\tlongitude</td>\n",
       "    <td class=\"iris-inclusion-cell\">-</td>\n",
       "    <td class=\"iris-inclusion-cell\">-</td>\n",
       "    <td class=\"iris-inclusion-cell\">x</td>\n",
       "</tr>\n",
       "<tr class=\"iris\">\n",
       "    <td class=\"iris-title iris-word-cell\">Cell methods</td>\n",
       "    <td class=\"iris-title\"></td>\n",
       "    <td class=\"iris-title\"></td>\n",
       "    <td class=\"iris-title\"></td>\n",
       "</tr>\n",
       "<tr class=\"iris\">\n",
       "    <td class=\"iris-word-cell iris-subheading-cell\">\tmean                           area, time</td>\n",
       "    <td class=\"iris-word-cell\" colspan=\"3\"></td>\n",
       "</tr>\n",
       "<tr class=\"iris\">\n",
       "    <td class=\"iris-title iris-word-cell\">Attributes</td>\n",
       "    <td class=\"iris-title\"></td>\n",
       "    <td class=\"iris-title\"></td>\n",
       "    <td class=\"iris-title\"><br>Conventions                    CF-1.7 CMIP-6.2<br>DODS_EXTRA.Unlimited_Dimension time<br>_ChunkSizes                    array([ 1, 96, 144])<br>activity_id                    CMIP<br>branch_method                  standard<br>branch_time_in_child           674885.0<br>branch_time_in_parent          10950.0<br>case_id                        1560<br>cesm_casename                  b.e21.BHIST.f19_g17.CMIP6-historical-2deg.002<br>comment                        TREFHT<br>contact                        cesm_cmip6@ucar.edu</td>\n",
       "</tr>\n",
       "<tr class=\"iris\">\n",
       "    <td class=\"iris-word-cell iris-subheading-cell\">\tcreation_date                  2019-11-05T02</td>\n",
       "    <td class=\"iris-word-cell\" colspan=\"3\">5:46Z<br>data_specs_version             01.00.31<br>description                    near-surface (usually, 2 meter) air temperature<br>experiment                     Simulation of recent past (1850 to 2014). Impose changing conditions (consistent...<br>experiment_id                  historical<br>external_variables             areacella<br>forcing_index                  1<br>frequency                      mon</td>\n",
       "</tr>\n",
       "<tr class=\"iris\">\n",
       "    <td class=\"iris-word-cell iris-subheading-cell\">\tfurther_info_url               https</td>\n",
       "    <td class=\"iris-word-cell\" colspan=\"3\">/furtherinfo.es-doc.org/CMIP6.NCAR.CESM2-FV2.historical.none.r2...<br>grid                           native 1.9x2.5 finite volume grid (96x144 latxlon)<br>grid_label                     gn<br>id                             tas<br>initialization_index           1<br>institution                    National Center for Atmospheric Research, Climate and Global Dynamics Laboratory,...<br>institution_id                 NCAR<br>license                        CMIP6 model data produced by &lt;The National Center for Atmospheric Research&gt;...<br>mipTable                       Amon<br>mip_era                        CMIP6</td>\n",
       "</tr>\n",
       "<tr class=\"iris\">\n",
       "    <td class=\"iris-word-cell iris-subheading-cell\">\tmodel_doi_url                  https</td>\n",
       "    <td class=\"iris-word-cell\" colspan=\"3\">/doi.org/10.5065/D67H1H0V</td>\n",
       "</tr>\n",
       "<tr class=\"iris\">\n",
       "    <td class=\"iris-word-cell iris-subheading-cell\">\tnetcdf_tracking_ids            hdl</td>\n",
       "    <td class=\"iris-word-cell\" colspan=\"3\">1.14100/99cdfde8-5b6d-452b-9b78-62a5048ff496<br>nominal_resolution             250 km<br>out_name                       tas<br>parent_activity_id             CMIP<br>parent_experiment_id           piControl<br>parent_mip_era                 CMIP6<br>parent_source_id               CESM2-FV2</td>\n",
       "</tr>\n",
       "<tr class=\"iris\">\n",
       "    <td class=\"iris-word-cell iris-subheading-cell\">\tparent_time_units              days since 0001-01-01 00</td>\n",
       "    <td class=\"iris-word-cell\" colspan=\"3\">0:00<br>parent_variant_label           r1i1p1f1<br>physics_index                  1<br>product                        model-output<br>prov                           Amon ((isd.003))<br>realization_index              2<br>realm                          atmos</td>\n",
       "</tr>\n",
       "<tr class=\"iris\">\n",
       "    <td class=\"iris-word-cell iris-subheading-cell\">\tsource                         CESM2 (2017)</td>\n",
       "    <td class=\"iris-word-cell\" colspan=\"3\">atmosphere: CAM6 (1.9x2.5 finite volume grid; 144 x 96 longitude/latitude;...<br>source_id                      CESM2-FV2<br>source_type                    AOGCM BGC AER<br>sub_experiment                 none<br>sub_experiment_id              none<br>table_id                       Amon<br>time                           time<br>time_label                     time-mean<br>time_title                     Temporal mean<br>title                          Near-Surface Air Temperature</td>\n",
       "</tr>\n",
       "<tr class=\"iris\">\n",
       "    <td class=\"iris-word-cell iris-subheading-cell\">\ttracking_id                    hdl</td>\n",
       "    <td class=\"iris-word-cell\" colspan=\"3\">1.14100/99cdfde8-5b6d-452b-9b78-62a5048ff496<br>type                           real<br>variable_id                    tas<br>variant_info                   CMIP6 CESM2-FV2 historical experiment (1850-2014) with CAM6-FV2 and interactive...<br>variant_label                  r2i1p1f1<br>version_id                     v20200226</td>\n",
       "</tr>\n",
       "</table>\n",
       "        "
      ],
      "text/plain": [
       "<iris 'Cube' of air_temperature / (K) (time: 1980; latitude: 96; longitude: 144)>"
      ]
     },
     "execution_count": 3,
     "metadata": {},
     "output_type": "execute_result"
    }
   ],
   "source": [
    "cube"
   ]
  },
  {
   "cell_type": "code",
   "execution_count": 4,
   "id": "83513ef2",
   "metadata": {},
   "outputs": [
    {
     "name": "stderr",
     "output_type": "stream",
     "text": [
      "H:\\conda\\cmip6-examples\\lib\\site-packages\\iris\\analysis\\cartography.py:394: UserWarning: Using DEFAULT_SPHERICAL_EARTH_RADIUS.\n",
      "  warnings.warn(\"Using DEFAULT_SPHERICAL_EARTH_RADIUS.\")\n"
     ]
    }
   ],
   "source": [
    "area_weights = iris.analysis.cartography.area_weights(cube)"
   ]
  },
  {
   "cell_type": "code",
   "execution_count": 5,
   "id": "d6383f65",
   "metadata": {},
   "outputs": [],
   "source": [
    "cube_monthly_mean = cube.collapsed(['latitude', 'longitude'], iris.analysis.MEAN, weights=area_weights)"
   ]
  },
  {
   "cell_type": "code",
   "execution_count": 6,
   "id": "6378f325",
   "metadata": {},
   "outputs": [],
   "source": [
    "iris.coord_categorisation.add_year(cube, 'time', name='year')\n",
    "cube_annual_mean_spatial = cube.aggregated_by('year', iris.analysis.MEAN)"
   ]
  },
  {
   "cell_type": "code",
   "execution_count": 7,
   "id": "9d999b1e",
   "metadata": {},
   "outputs": [
    {
     "data": {
      "text/html": [
       "\n",
       "<style>\n",
       "  a.iris {\n",
       "      text-decoration: none !important;\n",
       "  }\n",
       "  table.iris {\n",
       "      white-space: pre;\n",
       "      border: 1px solid;\n",
       "      border-color: #9c9c9c;\n",
       "      font-family: monaco, monospace;\n",
       "  }\n",
       "  th.iris {\n",
       "      background: #303f3f;\n",
       "      color: #e0e0e0;\n",
       "      border-left: 1px solid;\n",
       "      border-color: #9c9c9c;\n",
       "      font-size: 1.05em;\n",
       "      min-width: 50px;\n",
       "      max-width: 125px;\n",
       "  }\n",
       "  tr.iris :first-child {\n",
       "      border-right: 1px solid #9c9c9c !important;\n",
       "  }\n",
       "  td.iris-title {\n",
       "      background: #d5dcdf;\n",
       "      border-top: 1px solid #9c9c9c;\n",
       "      font-weight: bold;\n",
       "  }\n",
       "  .iris-word-cell {\n",
       "      text-align: left !important;\n",
       "      white-space: pre;\n",
       "  }\n",
       "  .iris-subheading-cell {\n",
       "      padding-left: 2em !important;\n",
       "  }\n",
       "  .iris-inclusion-cell {\n",
       "      padding-right: 1em !important;\n",
       "  }\n",
       "  .iris-panel-body {\n",
       "      padding-top: 0px;\n",
       "  }\n",
       "  .iris-panel-title {\n",
       "      padding-left: 3em;\n",
       "  }\n",
       "  .iris-panel-title {\n",
       "      margin-top: 7px;\n",
       "  }\n",
       "</style>\n",
       "<table class=\"iris\" id=\"2370748947072\">\n",
       "    <tr class=\"iris\">\n",
       "<th class=\"iris iris-word-cell\">Air Temperature (K)</th>\n",
       "<th class=\"iris iris-word-cell\">time</th>\n",
       "<th class=\"iris iris-word-cell\">latitude</th>\n",
       "<th class=\"iris iris-word-cell\">longitude</th>\n",
       "</tr>\n",
       "    <tr class=\"iris\">\n",
       "<td class=\"iris-word-cell iris-subheading-cell\">Shape</td>\n",
       "<td class=\"iris iris-inclusion-cell\">165</td>\n",
       "<td class=\"iris iris-inclusion-cell\">96</td>\n",
       "<td class=\"iris iris-inclusion-cell\">144</td>\n",
       "</tr>\n",
       "    <tr class=\"iris\">\n",
       "    <td class=\"iris-title iris-word-cell\">Dimension coordinates</td>\n",
       "    <td class=\"iris-title\"></td>\n",
       "    <td class=\"iris-title\"></td>\n",
       "    <td class=\"iris-title\"></td>\n",
       "</tr>\n",
       "<tr class=\"iris\">\n",
       "    <td class=\"iris-word-cell iris-subheading-cell\">\ttime</td>\n",
       "    <td class=\"iris-inclusion-cell\">x</td>\n",
       "    <td class=\"iris-inclusion-cell\">-</td>\n",
       "    <td class=\"iris-inclusion-cell\">-</td>\n",
       "</tr>\n",
       "<tr class=\"iris\">\n",
       "    <td class=\"iris-word-cell iris-subheading-cell\">\tlatitude</td>\n",
       "    <td class=\"iris-inclusion-cell\">-</td>\n",
       "    <td class=\"iris-inclusion-cell\">x</td>\n",
       "    <td class=\"iris-inclusion-cell\">-</td>\n",
       "</tr>\n",
       "<tr class=\"iris\">\n",
       "    <td class=\"iris-word-cell iris-subheading-cell\">\tlongitude</td>\n",
       "    <td class=\"iris-inclusion-cell\">-</td>\n",
       "    <td class=\"iris-inclusion-cell\">-</td>\n",
       "    <td class=\"iris-inclusion-cell\">x</td>\n",
       "</tr>\n",
       "<tr class=\"iris\">\n",
       "    <td class=\"iris-title iris-word-cell\">Auxiliary coordinates</td>\n",
       "    <td class=\"iris-title\"></td>\n",
       "    <td class=\"iris-title\"></td>\n",
       "    <td class=\"iris-title\"></td>\n",
       "</tr>\n",
       "<tr class=\"iris\">\n",
       "    <td class=\"iris-word-cell iris-subheading-cell\">\tyear</td>\n",
       "    <td class=\"iris-inclusion-cell\">x</td>\n",
       "    <td class=\"iris-inclusion-cell\">-</td>\n",
       "    <td class=\"iris-inclusion-cell\">-</td>\n",
       "</tr>\n",
       "<tr class=\"iris\">\n",
       "    <td class=\"iris-title iris-word-cell\">Cell methods</td>\n",
       "    <td class=\"iris-title\"></td>\n",
       "    <td class=\"iris-title\"></td>\n",
       "    <td class=\"iris-title\"></td>\n",
       "</tr>\n",
       "<tr class=\"iris\">\n",
       "    <td class=\"iris-word-cell iris-subheading-cell\">\tmean                           area, time</td>\n",
       "    <td class=\"iris-word-cell\" colspan=\"3\"></td>\n",
       "</tr>\n",
       "<tr class=\"iris\">\n",
       "    <td class=\"iris-word-cell iris-subheading-cell\">\tmean                           year</td>\n",
       "    <td class=\"iris-word-cell\" colspan=\"3\"></td>\n",
       "</tr>\n",
       "<tr class=\"iris\">\n",
       "    <td class=\"iris-title iris-word-cell\">Attributes</td>\n",
       "    <td class=\"iris-title\"></td>\n",
       "    <td class=\"iris-title\"></td>\n",
       "    <td class=\"iris-title\"><br>Conventions                    CF-1.7 CMIP-6.2<br>DODS_EXTRA.Unlimited_Dimension time<br>_ChunkSizes                    array([ 1, 96, 144])<br>activity_id                    CMIP<br>branch_method                  standard<br>branch_time_in_child           674885.0<br>branch_time_in_parent          10950.0<br>case_id                        1560<br>cesm_casename                  b.e21.BHIST.f19_g17.CMIP6-historical-2deg.002<br>comment                        TREFHT<br>contact                        cesm_cmip6@ucar.edu</td>\n",
       "</tr>\n",
       "<tr class=\"iris\">\n",
       "    <td class=\"iris-word-cell iris-subheading-cell\">\tcreation_date                  2019-11-05T02</td>\n",
       "    <td class=\"iris-word-cell\" colspan=\"3\">5:46Z<br>data_specs_version             01.00.31<br>description                    near-surface (usually, 2 meter) air temperature<br>experiment                     Simulation of recent past (1850 to 2014). Impose changing conditions (consistent...<br>experiment_id                  historical<br>external_variables             areacella<br>forcing_index                  1<br>frequency                      mon</td>\n",
       "</tr>\n",
       "<tr class=\"iris\">\n",
       "    <td class=\"iris-word-cell iris-subheading-cell\">\tfurther_info_url               https</td>\n",
       "    <td class=\"iris-word-cell\" colspan=\"3\">/furtherinfo.es-doc.org/CMIP6.NCAR.CESM2-FV2.historical.none.r2...<br>grid                           native 1.9x2.5 finite volume grid (96x144 latxlon)<br>grid_label                     gn<br>id                             tas<br>initialization_index           1<br>institution                    National Center for Atmospheric Research, Climate and Global Dynamics Laboratory,...<br>institution_id                 NCAR<br>license                        CMIP6 model data produced by &lt;The National Center for Atmospheric Research&gt;...<br>mipTable                       Amon<br>mip_era                        CMIP6</td>\n",
       "</tr>\n",
       "<tr class=\"iris\">\n",
       "    <td class=\"iris-word-cell iris-subheading-cell\">\tmodel_doi_url                  https</td>\n",
       "    <td class=\"iris-word-cell\" colspan=\"3\">/doi.org/10.5065/D67H1H0V</td>\n",
       "</tr>\n",
       "<tr class=\"iris\">\n",
       "    <td class=\"iris-word-cell iris-subheading-cell\">\tnetcdf_tracking_ids            hdl</td>\n",
       "    <td class=\"iris-word-cell\" colspan=\"3\">1.14100/99cdfde8-5b6d-452b-9b78-62a5048ff496<br>nominal_resolution             250 km<br>out_name                       tas<br>parent_activity_id             CMIP<br>parent_experiment_id           piControl<br>parent_mip_era                 CMIP6<br>parent_source_id               CESM2-FV2</td>\n",
       "</tr>\n",
       "<tr class=\"iris\">\n",
       "    <td class=\"iris-word-cell iris-subheading-cell\">\tparent_time_units              days since 0001-01-01 00</td>\n",
       "    <td class=\"iris-word-cell\" colspan=\"3\">0:00<br>parent_variant_label           r1i1p1f1<br>physics_index                  1<br>product                        model-output<br>prov                           Amon ((isd.003))<br>realization_index              2<br>realm                          atmos</td>\n",
       "</tr>\n",
       "<tr class=\"iris\">\n",
       "    <td class=\"iris-word-cell iris-subheading-cell\">\tsource                         CESM2 (2017)</td>\n",
       "    <td class=\"iris-word-cell\" colspan=\"3\">atmosphere: CAM6 (1.9x2.5 finite volume grid; 144 x 96 longitude/latitude;...<br>source_id                      CESM2-FV2<br>source_type                    AOGCM BGC AER<br>sub_experiment                 none<br>sub_experiment_id              none<br>table_id                       Amon<br>time                           time<br>time_label                     time-mean<br>time_title                     Temporal mean<br>title                          Near-Surface Air Temperature</td>\n",
       "</tr>\n",
       "<tr class=\"iris\">\n",
       "    <td class=\"iris-word-cell iris-subheading-cell\">\ttracking_id                    hdl</td>\n",
       "    <td class=\"iris-word-cell\" colspan=\"3\">1.14100/99cdfde8-5b6d-452b-9b78-62a5048ff496<br>type                           real<br>variable_id                    tas<br>variant_info                   CMIP6 CESM2-FV2 historical experiment (1850-2014) with CAM6-FV2 and interactive...<br>variant_label                  r2i1p1f1<br>version_id                     v20200226</td>\n",
       "</tr>\n",
       "</table>\n",
       "        "
      ],
      "text/plain": [
       "<iris 'Cube' of air_temperature / (K) (time: 165; latitude: 96; longitude: 144)>"
      ]
     },
     "execution_count": 7,
     "metadata": {},
     "output_type": "execute_result"
    }
   ],
   "source": [
    "cube_annual_mean_spatial"
   ]
  },
  {
   "cell_type": "code",
   "execution_count": 8,
   "id": "23028744",
   "metadata": {},
   "outputs": [
    {
     "name": "stderr",
     "output_type": "stream",
     "text": [
      "H:\\conda\\cmip6-examples\\lib\\site-packages\\iris\\analysis\\cartography.py:394: UserWarning: Using DEFAULT_SPHERICAL_EARTH_RADIUS.\n",
      "  warnings.warn(\"Using DEFAULT_SPHERICAL_EARTH_RADIUS.\")\n"
     ]
    }
   ],
   "source": [
    "area_weights_annual = iris.analysis.cartography.area_weights(cube_annual_mean_spatial)"
   ]
  },
  {
   "cell_type": "code",
   "execution_count": 9,
   "id": "fc3da629",
   "metadata": {},
   "outputs": [],
   "source": [
    "cube_annual_mean = cube_annual_mean_spatial.collapsed(['latitude', 'longitude'], iris.analysis.MEAN, weights=area_weights_annual)"
   ]
  },
  {
   "cell_type": "code",
   "execution_count": 10,
   "id": "310f7252",
   "metadata": {},
   "outputs": [
    {
     "data": {
      "text/plain": [
       "[<matplotlib.lines.Line2D at 0x227800fab30>]"
      ]
     },
     "execution_count": 10,
     "metadata": {},
     "output_type": "execute_result"
    },
    {
     "data": {
      "image/png": "[encoded data removed]",
      "text/plain": [
       "<Figure size 432x288 with 1 Axes>"
      ]
     },
     "metadata": {
      "needs_background": "light"
     },
     "output_type": "display_data"
    }
   ],
   "source": [
    "plt.plot(np.arange(1850+1/24, 2015, 1/12), cube_monthly_mean.data)\n",
    "plt.plot(np.arange(1850.5, 2015), cube_annual_mean.data)"
   ]
  },
  {
   "cell_type": "code",
   "execution_count": null,
   "id": "8c3f4ad9",
   "metadata": {},
   "outputs": [],
   "source": []
  }
 ],
 "metadata": {
  "kernelspec": {
   "display_name": "Python 3 (ipykernel)",
   "language": "python",
   "name": "python3"
  },
  "language_info": {
   "codemirror_mode": {
    "name": "ipython",
    "version": 3
   },
   "file_extension": ".py",
   "mimetype": "text/x-python",
   "name": "python",
   "nbconvert_exporter": "python",
   "pygments_lexer": "ipython3",
   "version": "3.10.2"
  }
 },
 "nbformat": 4,
 "nbformat_minor": 5
}
