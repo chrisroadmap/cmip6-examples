{
 "cells": [
  {
   "cell_type": "markdown",
   "id": "2d0b02c3",
   "metadata": {},
   "source": [
    "# Using iris to analyse data obtained with pangeo\n",
    "\n",
    "This will also demonstrate how to perform area-weighting to produce monthly and annual means"
   ]
  },
  {
   "cell_type": "code",
   "execution_count": null,
   "id": "d989603d",
   "metadata": {},
   "outputs": [],
   "source": [
    "import iris\n",
    "import matplotlib.pyplot as plt\n",
    "import numpy as np\n",
    "\n",
    "import iris.analysis.cartography\n",
    "import iris.coord_categorisation"
   ]
  },
  {
   "cell_type": "code",
   "execution_count": null,
   "id": "378c3d2f",
   "metadata": {},
   "outputs": [],
   "source": [
    "cube = iris.load_cube('../data/pangeo/CESM2_historical_tas.nc')"
   ]
  },
  {
   "cell_type": "code",
   "execution_count": null,
   "id": "863d7ea8",
   "metadata": {},
   "outputs": [],
   "source": [
    "cube"
   ]
  },
  {
   "cell_type": "code",
   "execution_count": null,
   "id": "64e51368",
   "metadata": {},
   "outputs": [],
   "source": [
    "area_weights = iris.analysis.cartography.area_weights(cube)"
   ]
  },
  {
   "cell_type": "code",
   "execution_count": null,
   "id": "d0a46ef6",
   "metadata": {},
   "outputs": [],
   "source": [
    "cube_monthly_mean = cube.collapsed(['latitude', 'longitude'], iris.analysis.MEAN, weights=area_weights)"
   ]
  },
  {
   "cell_type": "code",
   "execution_count": null,
   "id": "2ea072ad",
   "metadata": {},
   "outputs": [],
   "source": [
    "iris.coord_categorisation.add_year(cube, 'time', name='year')\n",
    "cube_annual_mean_spatial = cube.aggregated_by('year', iris.analysis.MEAN)"
   ]
  },
  {
   "cell_type": "code",
   "execution_count": null,
   "id": "2bbbbd5b",
   "metadata": {},
   "outputs": [],
   "source": [
    "cube_annual_mean_spatial"
   ]
  },
  {
   "cell_type": "code",
   "execution_count": null,
   "id": "bc9e5bac",
   "metadata": {},
   "outputs": [],
   "source": [
    "area_weights_annual = iris.analysis.cartography.area_weights(cube_annual_mean_spatial)"
   ]
  },
  {
   "cell_type": "code",
   "execution_count": null,
   "id": "a196ec3c",
   "metadata": {},
   "outputs": [],
   "source": [
    "cube_annual_mean = cube_annual_mean_spatial.collapsed(['latitude', 'longitude'], iris.analysis.MEAN, weights=area_weights_annual)"
   ]
  },
  {
   "cell_type": "code",
   "execution_count": null,
   "id": "8ae9b3ae",
   "metadata": {},
   "outputs": [],
   "source": [
    "plt.plot(np.arange(1850+1/24, 2015, 1/12), cube_monthly_mean.data)\n",
    "plt.plot(np.arange(1850.5, 2015), cube_annual_mean.data)"
   ]
  },
  {
   "cell_type": "code",
   "execution_count": null,
   "id": "c97f9277",
   "metadata": {},
   "outputs": [],
   "source": []
  }
 ],
 "metadata": {
  "kernelspec": {
   "display_name": "Python 3 (ipykernel)",
   "language": "python",
   "name": "python3"
  },
  "language_info": {
   "codemirror_mode": {
    "name": "ipython",
    "version": 3
   },
   "file_extension": ".py",
   "mimetype": "text/x-python",
   "name": "python",
   "nbconvert_exporter": "python",
   "pygments_lexer": "ipython3",
   "version": "3.10.2"
  }
 },
 "nbformat": 4,
 "nbformat_minor": 5
}
